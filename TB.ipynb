{
  "nbformat": 4,
  "nbformat_minor": 0,
  "metadata": {
    "colab": {
      "provenance": []
    },
    "kernelspec": {
      "name": "python3",
      "display_name": "Python 3"
    },
    "language_info": {
      "name": "python"
    }
  },
  "cells": [
    {
      "cell_type": "code",
      "source": [
        "import numpy as np\n",
        "import pandas as pd\n",
        "import matplotlib.pyplot as plt\n",
        "import seaborn as sns\n",
        "from sklearn.model_selection import train_test_split\n",
        "from sklearn.preprocessing import StandardScaler\n",
        "from sklearn.linear_model import LogisticRegression\n",
        "from sklearn.tree import DecisionTreeClassifier\n",
        "from sklearn.ensemble import RandomForestClassifier\n",
        "from sklearn.metrics import accuracy_score, classification_report"
      ],
      "metadata": {
        "id": "83P6czwn5r1d"
      },
      "execution_count": 17,
      "outputs": []
    },
    {
      "cell_type": "code",
      "source": [
        "# Mengimport data\n",
        "datmin = pd.read_csv('/content/diabetes.csv')"
      ],
      "metadata": {
        "id": "Bo7E-YLK52SE"
      },
      "execution_count": 18,
      "outputs": []
    },
    {
      "cell_type": "code",
      "source": [
        "# Preprocessing\n",
        "\n",
        "# Mengidentifikasi nilai tak wajar sebagai missing value\n",
        "datmin['Glucose'] = datmin['Glucose'].replace(0, np.nan)\n",
        "datmin['BloodPressure'] = datmin['BloodPressure'].replace(0, np.nan)\n",
        "datmin['SkinThickness'] = datmin['SkinThickness'].replace(0, np.nan)\n",
        "datmin['Insulin'] = datmin['Insulin'].replace(0, np.nan)\n",
        "datmin['BMI'] = datmin['BMI'].replace(0, np.nan)"
      ],
      "metadata": {
        "id": "giA5hkJO3elC"
      },
      "execution_count": 19,
      "outputs": []
    },
    {
      "cell_type": "code",
      "source": [
        "# Tampilan hasil preprocessing\n",
        "# Cek missing value\n",
        "total_missing = datmin.isnull().sum().sort_values(ascending=False)\n",
        "missing_percentage = (total_missing / len(datmin)) * 100\n",
        "missing_data = pd.concat([total_missing, missing_percentage], axis=1, keys=['Total Missing', 'Missing Percentage'])\n",
        "print(\"Missing Value Information:\")\n",
        "print(missing_data)"
      ],
      "metadata": {
        "colab": {
          "base_uri": "https://localhost:8080/"
        },
        "id": "6DqLm6N_9FFt",
        "outputId": "eece29ff-7d7d-476f-857a-167d4d8e3330"
      },
      "execution_count": 24,
      "outputs": [
        {
          "output_type": "stream",
          "name": "stdout",
          "text": [
            "Missing Value Information:\n",
            "                          Total Missing  Missing Percentage\n",
            "Insulin                             374           48.697917\n",
            "Glucose                               5            0.651042\n",
            "Pregnancies                           0            0.000000\n",
            "BloodPressure                         0            0.000000\n",
            "SkinThickness                         0            0.000000\n",
            "BMI                                   0            0.000000\n",
            "DiabetesPedigreeFunction              0            0.000000\n",
            "Age                                   0            0.000000\n",
            "Outcome                               0            0.000000\n"
          ]
        }
      ]
    },
    {
      "cell_type": "code",
      "source": [
        "# Visualisasi missing value\n",
        "plt.figure(figsize=(8, 6))\n",
        "sns.heatmap(datmin.isnull(), cmap='viridis', cbar=False, yticklabels=False)\n",
        "plt.title(\"Missing Value Heatmap\")\n",
        "plt.show()"
      ],
      "metadata": {
        "colab": {
          "base_uri": "https://localhost:8080/",
          "height": 700
        },
        "id": "Ur61DQa_9JiK",
        "outputId": "1550fe74-7468-4c13-dc06-45f8ecfb9049"
      },
      "execution_count": 25,
      "outputs": [
        {
          "output_type": "display_data",
          "data": {
            "text/plain": [
              "<Figure size 800x600 with 1 Axes>"
            ],
            "image/png": "[encoded data removed]"
          },
          "metadata": {}
        }
      ]
    },
    {
      "cell_type": "code",
      "source": [
        "# Imputasi Missing Value\n",
        "df1 = datmin.loc[datmin['Outcome'] == 0]\n",
        "df2 = datmin.loc[datmin['Outcome'] == 1]\n",
        "\n",
        "df1['Glucose'].fillna(df1['Glucose'].mean(), inplace=True)\n",
        "df2['Glucose'].fillna(df2['Glucose'].mean(), inplace=True)\n",
        "\n",
        "df1['Insulin'].fillna(df1['Insulin'].median(), inplace=True)\n",
        "df2['Insulin'].fillna(df2['Insulin'].median(), inplace=True)\n",
        "\n",
        "mean1 = datmin['BloodPressure'].mean()\n",
        "datmin['BloodPressure'].fillna(mean1, inplace=True)\n",
        "mean2 = datmin['SkinThickness'].mean()\n",
        "datmin['SkinThickness'].fillna(mean2, inplace=True)\n",
        "mean3 = datmin['BMI'].mean()\n",
        "datmin['BMI'].fillna(mean3, inplace=True)"
      ],
      "metadata": {
        "id": "0aMNAnRp3jfm",
        "colab": {
          "base_uri": "https://localhost:8080/"
        },
        "outputId": "b97be6c6-d767-4880-af3d-8038a24824c1"
      },
      "execution_count": 20,
      "outputs": [
        {
          "output_type": "stream",
          "name": "stderr",
          "text": [
            "<ipython-input-20-2080b9e2d6e7>:5: SettingWithCopyWarning: \n",
            "A value is trying to be set on a copy of a slice from a DataFrame\n",
            "\n",
            "See the caveats in the documentation: https://pandas.pydata.org/pandas-docs/stable/user_guide/indexing.html#returning-a-view-versus-a-copy\n",
            "  df1['Glucose'].fillna(df1['Glucose'].mean(), inplace=True)\n",
            "<ipython-input-20-2080b9e2d6e7>:6: SettingWithCopyWarning: \n",
            "A value is trying to be set on a copy of a slice from a DataFrame\n",
            "\n",
            "See the caveats in the documentation: https://pandas.pydata.org/pandas-docs/stable/user_guide/indexing.html#returning-a-view-versus-a-copy\n",
            "  df2['Glucose'].fillna(df2['Glucose'].mean(), inplace=True)\n",
            "<ipython-input-20-2080b9e2d6e7>:8: SettingWithCopyWarning: \n",
            "A value is trying to be set on a copy of a slice from a DataFrame\n",
            "\n",
            "See the caveats in the documentation: https://pandas.pydata.org/pandas-docs/stable/user_guide/indexing.html#returning-a-view-versus-a-copy\n",
            "  df1['Insulin'].fillna(df1['Insulin'].median(), inplace=True)\n",
            "<ipython-input-20-2080b9e2d6e7>:9: SettingWithCopyWarning: \n",
            "A value is trying to be set on a copy of a slice from a DataFrame\n",
            "\n",
            "See the caveats in the documentation: https://pandas.pydata.org/pandas-docs/stable/user_guide/indexing.html#returning-a-view-versus-a-copy\n",
            "  df2['Insulin'].fillna(df2['Insulin'].median(), inplace=True)\n"
          ]
        }
      ]
    },
    {
      "cell_type": "code",
      "source": [
        "# Feature Scaling\n",
        "scaler = StandardScaler()\n",
        "datmin_scaled = scaler.fit_transform(datmin.drop('Outcome', axis=1))"
      ],
      "metadata": {
        "id": "T0HNiGSf3non"
      },
      "execution_count": 21,
      "outputs": []
    },
    {
      "cell_type": "code",
      "source": [
        "# Tampilan hasil scaling\n",
        "scaled_data = pd.DataFrame(datmin_scaled, columns=datmin.columns[:-1])\n",
        "print(\"Scaled Data:\")\n",
        "print(scaled_data.head())"
      ],
      "metadata": {
        "colab": {
          "base_uri": "https://localhost:8080/"
        },
        "id": "SXPrdiVI9iNa",
        "outputId": "37ae8e9e-5c3d-4936-de98-aaa25d4055ee"
      },
      "execution_count": 26,
      "outputs": [
        {
          "output_type": "stream",
          "name": "stdout",
          "text": [
            "Scaled Data:\n",
            "   Pregnancies   Glucose  BloodPressure  SkinThickness   Insulin       BMI  \\\n",
            "0     0.639947  0.862287      -0.033518   6.655021e-01       NaN  0.166292   \n",
            "1    -0.844885 -1.202229      -0.529859  -1.746338e-02       NaN -0.852531   \n",
            "2     1.233880  2.009241      -0.695306   8.087936e-16       NaN -1.332833   \n",
            "3    -0.844885 -1.071148      -0.529859  -7.004289e-01 -0.518847 -0.634212   \n",
            "4    -1.141852  0.501816      -2.680669   6.655021e-01  0.104968  1.548980   \n",
            "\n",
            "   DiabetesPedigreeFunction       Age  \n",
            "0                  0.468492  1.425995  \n",
            "1                 -0.365061 -0.190672  \n",
            "2                  0.604397 -0.105584  \n",
            "3                 -0.920763 -1.041549  \n",
            "4                  5.484909 -0.020496  \n"
          ]
        }
      ]
    },
    {
      "cell_type": "code",
      "source": [
        "# Split Training Testing Data\n",
        "X = datmin_scaled\n",
        "y = datmin['Outcome']\n",
        "xTrain, xTest, yTrain, yTest = train_test_split(X, y, test_size=0.2, random_state=0)"
      ],
      "metadata": {
        "id": "U4mP96ZY3q4W"
      },
      "execution_count": 22,
      "outputs": []
    },
    {
      "cell_type": "code",
      "source": [
        "# Tampilan hasil split data\n",
        "print(\"Jumlah data dalam training set:\", len(xTrain))\n",
        "print(\"Jumlah data dalam testing set:\", len(xTest))\n",
        "\n",
        "print(\"\\nTraining set - Fitur:\")\n",
        "print(xTrain[:5])  # Menampilkan 5 data pertama dalam training set\n",
        "\n",
        "print(\"\\nTraining set - Label:\")\n",
        "print(yTrain[:5])  # Menampilkan 5 label pertama dalam training set\n",
        "\n",
        "print(\"\\nTesting set - Fitur:\")\n",
        "print(xTest[:5])  # Menampilkan 5 data pertama dalam testing set\n",
        "\n",
        "print(\"\\nTesting set - Label:\")\n",
        "print(yTest[:5])  # Menampilkan 5 label pertama dalam testing set"
      ],
      "metadata": {
        "colab": {
          "base_uri": "https://localhost:8080/"
        },
        "id": "2CFUObOG9oCE",
        "outputId": "d7e3acf3-90c6-4bbb-df40-88a17f471d85"
      },
      "execution_count": 27,
      "outputs": [
        {
          "output_type": "stream",
          "name": "stdout",
          "text": [
            "Jumlah data dalam training set: 614\n",
            "Jumlah data dalam testing set: 154\n",
            "\n",
            "Training set - Fitur:\n",
            "[[ 9.36913723e-01  9.27827561e-01  4.62822555e-01 -1.74633816e-02\n",
            "  -2.49089283e-01  3.99165553e-01  6.64799691e-01  1.76634642e+00]\n",
            " [ 4.60143347e-02 -8.08987637e-01 -1.02619983e+00 -7.00428884e-01\n",
            "              nan -6.19657367e-01 -8.72098593e-02 -9.56461683e-01]\n",
            " [-1.14185152e+00  1.41937903e+00  1.45550414e+00  4.37846953e-01\n",
            "   4.42108873e+00  2.88800440e+00 -1.35531758e-01 -8.71373930e-01]\n",
            " [-8.44885053e-01 -4.15746461e-01 -1.35709369e+00 -9.28084051e-01\n",
            "  -1.73219965e-01 -1.05629576e+00  1.09063642e+00 -8.71373930e-01]\n",
            " [ 1.23388019e+00 -5.52753817e-02  1.17557115e-15  8.08793628e-16\n",
            "              nan -3.57674330e-01 -8.72440715e-01  4.04942367e-01]]\n",
            "\n",
            "Training set - Label:\n",
            "603    1\n",
            "118    0\n",
            "247    0\n",
            "157    0\n",
            "468    1\n",
            "Name: Outcome, dtype: int64\n",
            "\n",
            "Testing set - Fitur:\n",
            "[[-8.44885053e-01  2.53356237e+00  2.97375623e-01  1.57612279e+00\n",
            "              nan  1.51987076e+00  2.78492300e+00 -9.56461683e-01]\n",
            " [-5.47918591e-01 -4.81286657e-01  1.31928692e-01  9.63642021e-02\n",
            "  -4.68267312e-01  1.66291742e-01 -2.04994488e-01 -8.71373930e-01]\n",
            " [ 4.60143347e-02 -1.49715970e+00 -8.60752896e-01  8.08793628e-16\n",
            "              nan  2.24510195e-01 -2.44256030e-01 -7.01198424e-01]\n",
            " [ 3.42980797e-01  1.45214913e+00 -3.35182392e-02 -1.15573922e+00\n",
            "   1.63977003e-01 -9.68968082e-01  3.47687230e-01  1.51108316e+00]\n",
            " [-1.14185152e+00 -3.50206264e-01 -6.12582499e-01  8.08793628e-16\n",
            "              nan -1.14362344e+00  5.68155894e-01 -1.90671905e-01]]\n",
            "\n",
            "Testing set - Label:\n",
            "661    1\n",
            "122    0\n",
            "113    0\n",
            "14     1\n",
            "529    0\n",
            "Name: Outcome, dtype: int64\n"
          ]
        }
      ]
    },
    {
      "cell_type": "code",
      "source": [
        "datmin_cleaned = datmin.dropna()\n"
      ],
      "metadata": {
        "id": "c3j_CTBh-Nfa"
      },
      "execution_count": 29,
      "outputs": []
    },
    {
      "cell_type": "code",
      "source": [
        "from sklearn.impute import SimpleImputer\n",
        "\n",
        "imputer = SimpleImputer(strategy='mean')\n",
        "datmin_imputed = imputer.fit_transform(datmin)\n"
      ],
      "metadata": {
        "id": "qhV-1jm4-Nrd"
      },
      "execution_count": 30,
      "outputs": []
    },
    {
      "cell_type": "code",
      "source": [
        "from sklearn.linear_model import LogisticRegression\n",
        "from sklearn.metrics import accuracy_score, classification_report\n",
        "\n",
        "# Logistic Regression\n",
        "logreg = LogisticRegression()\n",
        "logreg.fit(xTrain, yTrain)\n",
        "yPred = logreg.predict(xTest)\n",
        "print(\"Logistic Regression Accuracy:\", accuracy_score(yTest, yPred))\n",
        "print(\"Logistic Regression Classification Report:\")\n",
        "print(classification_report(yTest, yPred))"
      ],
      "metadata": {
        "id": "i_yQqd5U3ubU",
        "colab": {
          "base_uri": "https://localhost:8080/",
          "height": 484
        },
        "outputId": "e419811f-e8c2-4a90-cf1a-b89ba24f99ca"
      },
      "execution_count": 32,
      "outputs": [
        {
          "output_type": "error",
          "ename": "ValueError",
          "evalue": "ignored",
          "traceback": [
            "\u001b[0;31m---------------------------------------------------------------------------\u001b[0m",
            "\u001b[0;31mValueError\u001b[0m                                Traceback (most recent call last)",
            "\u001b[0;32m<ipython-input-32-cbebe8aa182c>\u001b[0m in \u001b[0;36m<cell line: 1>\u001b[0;34m()\u001b[0m\n\u001b[0;32m----> 1\u001b[0;31m \u001b[0mlogreg\u001b[0m\u001b[0;34m.\u001b[0m\u001b[0mfit\u001b[0m\u001b[0;34m(\u001b[0m\u001b[0mxTrain\u001b[0m\u001b[0;34m,\u001b[0m \u001b[0myTrain\u001b[0m\u001b[0;34m)\u001b[0m\u001b[0;34m\u001b[0m\u001b[0;34m\u001b[0m\u001b[0m\n\u001b[0m",
            "\u001b[0;32m/usr/local/lib/python3.10/dist-packages/sklearn/linear_model/_logistic.py\u001b[0m in \u001b[0;36mfit\u001b[0;34m(self, X, y, sample_weight)\u001b[0m\n\u001b[1;32m   1194\u001b[0m             \u001b[0m_dtype\u001b[0m \u001b[0;34m=\u001b[0m \u001b[0;34m[\u001b[0m\u001b[0mnp\u001b[0m\u001b[0;34m.\u001b[0m\u001b[0mfloat64\u001b[0m\u001b[0;34m,\u001b[0m \u001b[0mnp\u001b[0m\u001b[0;34m.\u001b[0m\u001b[0mfloat32\u001b[0m\u001b[0;34m]\u001b[0m\u001b[0;34m\u001b[0m\u001b[0;34m\u001b[0m\u001b[0m\n\u001b[1;32m   1195\u001b[0m \u001b[0;34m\u001b[0m\u001b[0m\n\u001b[0;32m-> 1196\u001b[0;31m         X, y = self._validate_data(\n\u001b[0m\u001b[1;32m   1197\u001b[0m             \u001b[0mX\u001b[0m\u001b[0;34m,\u001b[0m\u001b[0;34m\u001b[0m\u001b[0;34m\u001b[0m\u001b[0m\n\u001b[1;32m   1198\u001b[0m             \u001b[0my\u001b[0m\u001b[0;34m,\u001b[0m\u001b[0;34m\u001b[0m\u001b[0;34m\u001b[0m\u001b[0m\n",
            "\u001b[0;32m/usr/local/lib/python3.10/dist-packages/sklearn/base.py\u001b[0m in \u001b[0;36m_validate_data\u001b[0;34m(self, X, y, reset, validate_separately, **check_params)\u001b[0m\n\u001b[1;32m    582\u001b[0m                 \u001b[0my\u001b[0m \u001b[0;34m=\u001b[0m \u001b[0mcheck_array\u001b[0m\u001b[0;34m(\u001b[0m\u001b[0my\u001b[0m\u001b[0;34m,\u001b[0m \u001b[0minput_name\u001b[0m\u001b[0;34m=\u001b[0m\u001b[0;34m\"y\"\u001b[0m\u001b[0;34m,\u001b[0m \u001b[0;34m**\u001b[0m\u001b[0mcheck_y_params\u001b[0m\u001b[0;34m)\u001b[0m\u001b[0;34m\u001b[0m\u001b[0;34m\u001b[0m\u001b[0m\n\u001b[1;32m    583\u001b[0m             \u001b[0;32melse\u001b[0m\u001b[0;34m:\u001b[0m\u001b[0;34m\u001b[0m\u001b[0;34m\u001b[0m\u001b[0m\n\u001b[0;32m--> 584\u001b[0;31m                 \u001b[0mX\u001b[0m\u001b[0;34m,\u001b[0m \u001b[0my\u001b[0m \u001b[0;34m=\u001b[0m \u001b[0mcheck_X_y\u001b[0m\u001b[0;34m(\u001b[0m\u001b[0mX\u001b[0m\u001b[0;34m,\u001b[0m \u001b[0my\u001b[0m\u001b[0;34m,\u001b[0m \u001b[0;34m**\u001b[0m\u001b[0mcheck_params\u001b[0m\u001b[0;34m)\u001b[0m\u001b[0;34m\u001b[0m\u001b[0;34m\u001b[0m\u001b[0m\n\u001b[0m\u001b[1;32m    585\u001b[0m             \u001b[0mout\u001b[0m \u001b[0;34m=\u001b[0m \u001b[0mX\u001b[0m\u001b[0;34m,\u001b[0m \u001b[0my\u001b[0m\u001b[0;34m\u001b[0m\u001b[0;34m\u001b[0m\u001b[0m\n\u001b[1;32m    586\u001b[0m \u001b[0;34m\u001b[0m\u001b[0m\n",
            "\u001b[0;32m/usr/local/lib/python3.10/dist-packages/sklearn/utils/validation.py\u001b[0m in \u001b[0;36mcheck_X_y\u001b[0;34m(X, y, accept_sparse, accept_large_sparse, dtype, order, copy, force_all_finite, ensure_2d, allow_nd, multi_output, ensure_min_samples, ensure_min_features, y_numeric, estimator)\u001b[0m\n\u001b[1;32m   1104\u001b[0m         )\n\u001b[1;32m   1105\u001b[0m \u001b[0;34m\u001b[0m\u001b[0m\n\u001b[0;32m-> 1106\u001b[0;31m     X = check_array(\n\u001b[0m\u001b[1;32m   1107\u001b[0m         \u001b[0mX\u001b[0m\u001b[0;34m,\u001b[0m\u001b[0;34m\u001b[0m\u001b[0;34m\u001b[0m\u001b[0m\n\u001b[1;32m   1108\u001b[0m         \u001b[0maccept_sparse\u001b[0m\u001b[0;34m=\u001b[0m\u001b[0maccept_sparse\u001b[0m\u001b[0;34m,\u001b[0m\u001b[0;34m\u001b[0m\u001b[0;34m\u001b[0m\u001b[0m\n",
            "\u001b[0;32m/usr/local/lib/python3.10/dist-packages/sklearn/utils/validation.py\u001b[0m in \u001b[0;36mcheck_array\u001b[0;34m(array, accept_sparse, accept_large_sparse, dtype, order, copy, force_all_finite, ensure_2d, allow_nd, ensure_min_samples, ensure_min_features, estimator, input_name)\u001b[0m\n\u001b[1;32m    919\u001b[0m \u001b[0;34m\u001b[0m\u001b[0m\n\u001b[1;32m    920\u001b[0m         \u001b[0;32mif\u001b[0m \u001b[0mforce_all_finite\u001b[0m\u001b[0;34m:\u001b[0m\u001b[0;34m\u001b[0m\u001b[0;34m\u001b[0m\u001b[0m\n\u001b[0;32m--> 921\u001b[0;31m             _assert_all_finite(\n\u001b[0m\u001b[1;32m    922\u001b[0m                 \u001b[0marray\u001b[0m\u001b[0;34m,\u001b[0m\u001b[0;34m\u001b[0m\u001b[0;34m\u001b[0m\u001b[0m\n\u001b[1;32m    923\u001b[0m                 \u001b[0minput_name\u001b[0m\u001b[0;34m=\u001b[0m\u001b[0minput_name\u001b[0m\u001b[0;34m,\u001b[0m\u001b[0;34m\u001b[0m\u001b[0;34m\u001b[0m\u001b[0m\n",
            "\u001b[0;32m/usr/local/lib/python3.10/dist-packages/sklearn/utils/validation.py\u001b[0m in \u001b[0;36m_assert_all_finite\u001b[0;34m(X, allow_nan, msg_dtype, estimator_name, input_name)\u001b[0m\n\u001b[1;32m    159\u001b[0m                 \u001b[0;34m\"#estimators-that-handle-nan-values\"\u001b[0m\u001b[0;34m\u001b[0m\u001b[0;34m\u001b[0m\u001b[0m\n\u001b[1;32m    160\u001b[0m             )\n\u001b[0;32m--> 161\u001b[0;31m         \u001b[0;32mraise\u001b[0m \u001b[0mValueError\u001b[0m\u001b[0;34m(\u001b[0m\u001b[0mmsg_err\u001b[0m\u001b[0;34m)\u001b[0m\u001b[0;34m\u001b[0m\u001b[0;34m\u001b[0m\u001b[0m\n\u001b[0m\u001b[1;32m    162\u001b[0m \u001b[0;34m\u001b[0m\u001b[0m\n\u001b[1;32m    163\u001b[0m \u001b[0;34m\u001b[0m\u001b[0m\n",
            "\u001b[0;31mValueError\u001b[0m: Input X contains NaN.\nLogisticRegression does not accept missing values encoded as NaN natively. For supervised learning, you might want to consider sklearn.ensemble.HistGradientBoostingClassifier and Regressor which accept missing values encoded as NaNs natively. Alternatively, it is possible to preprocess the data, for instance by using an imputer transformer in a pipeline or drop samples with missing values. See https://scikit-learn.org/stable/modules/impute.html You can find a list of all estimators that handle NaN values at the following page: https://scikit-learn.org/stable/modules/impute.html#estimators-that-handle-nan-values"
          ]
        }
      ]
    },
    {
      "cell_type": "code",
      "source": [
        "# Decision Tree\n",
        "dtree = DecisionTreeClassifier()\n",
        "dtree.fit(xTrain, yTrain)\n",
        "yPred = dtree.predict(xTest)\n",
        "print(\"Decision Tree Accuracy:\", accuracy_score(yTest, yPred))\n",
        "print(\"Decision Tree Classification Report:\")\n",
        "print(classification_report(yTest, yPred))"
      ],
      "metadata": {
        "id": "sO0nkt5C3xN7"
      },
      "execution_count": null,
      "outputs": []
    },
    {
      "cell_type": "code",
      "source": [
        "# Gaussian Naive Bayes\n",
        "nb = GaussianNB()\n",
        "nb.fit(xTrain, yTrain)\n",
        "yPred = nb.predict(xTest)\n",
        "print(\"Naive Bayes Accuracy:\", accuracy_score(yTest, yPred))\n",
        "print(\"Naive Bayes Classification Report:\")\n",
        "print(classification_report(yTest, yPred))"
      ],
      "metadata": {
        "id": "JfLrljFn83N1"
      },
      "execution_count": null,
      "outputs": []
    }
  ]
}